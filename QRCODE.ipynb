{
  "nbformat": 4,
  "nbformat_minor": 0,
  "metadata": {
    "colab": {
      "name": "QRCODE.ipynb",
      "provenance": [],
      "authorship_tag": "ABX9TyNipUhJE2ECo8SYQ7Ay1ADG"
    },
    "kernelspec": {
      "name": "python3",
      "display_name": "Python 3"
    },
    "language_info": {
      "name": "python"
    }
  },
  "cells": [
    {
      "cell_type": "code",
      "metadata": {
        "colab": {
          "base_uri": "https://localhost:8080/"
        },
        "id": "ztSW94M6dsC-",
        "outputId": "89dd51f8-d3c8-4ce5-9abb-6dd9b1638e5e"
      },
      "source": [
        "!pip install qrcode[pil]"
      ],
      "execution_count": 1,
      "outputs": [
        {
          "output_type": "stream",
          "text": [
            "Collecting qrcode[pil]\n",
            "  Downloading https://files.pythonhosted.org/packages/42/87/4a3a77e59ab7493d64da1f69bf1c2e899a4cf81e51b2baa855e8cc8115be/qrcode-6.1-py2.py3-none-any.whl\n",
            "Requirement already satisfied: six in /usr/local/lib/python3.7/dist-packages (from qrcode[pil]) (1.15.0)\n",
            "Requirement already satisfied: pillow; extra == \"pil\" in /usr/local/lib/python3.7/dist-packages (from qrcode[pil]) (7.1.2)\n",
            "Installing collected packages: qrcode\n",
            "Successfully installed qrcode-6.1\n"
          ],
          "name": "stdout"
        }
      ]
    },
    {
      "cell_type": "code",
      "metadata": {
        "id": "I9MFGFReh_d5"
      },
      "source": [
        "import qrcode\n",
        "img = qrcode.make(\"https://agrvlog.blogspot.com\")\n",
        "img.save(\"vlog.png\")\n"
      ],
      "execution_count": 3,
      "outputs": []
    }
  ]
}